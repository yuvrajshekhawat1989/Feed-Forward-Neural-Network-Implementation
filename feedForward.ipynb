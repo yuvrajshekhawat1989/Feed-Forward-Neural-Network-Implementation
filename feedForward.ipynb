{
 "cells": [
  {
   "cell_type": "code",
   "execution_count": 1,
   "metadata": {},
   "outputs": [],
   "source": [
    "import numpy as np\n",
    "import torch\n",
    "import matplotlib.pyplot as plt\n",
    "import matplotlib.image as mpimg"
   ]
  },
  {
   "cell_type": "code",
   "execution_count": 2,
   "metadata": {},
   "outputs": [],
   "source": [
    "#Generates a random kernel of given dimensions and num_channels\n",
    "def random_kernel(dimension,num_channels):\n",
    "    dimension = dimension+(num_channels,)\n",
    "    kernel = torch.randn(dimension)\n",
    "    return kernel\n",
    "\n",
    "#Generates a number of random kernels and return a array containing all of them \n",
    "def generate_kernels(num_filters,kernel_dimensions,num_channels = 3):\n",
    "    kernels = []\n",
    "    for i in range(num_filters):\n",
    "        kernels.insert(i,random_kernel(kernel_dimensions,num_channels))\n",
    "    return kernels"
   ]
  },
  {
   "cell_type": "code",
   "execution_count": 3,
   "metadata": {},
   "outputs": [],
   "source": [
    "# List of activation Functions\n",
    "def sigmoid(x):\n",
    "    return (1/(1+torch.exp(-x)))\n",
    "\n",
    "def tanh(x):\n",
    "    return ((torch.exp(x)-torch.exp(-x))/(torch.exp(x)+torch.exp(-x)))\n",
    "\n",
    "def ReLU(x):\n",
    "    m,n = x.shape\n",
    "    for i in range(m):\n",
    "        for j in range(n):\n",
    "            x[i,j] = max(0,x[i,j])\n",
    "    return x\n",
    "\n",
    "def PReLU(x,alpha):\n",
    "    m,n = x.shape\n",
    "    for i in range(m):\n",
    "        for j in range(n):\n",
    "            if(x[i,j]<0):\n",
    "                x[i,j] = x[i,j]*alpha\n",
    "    return x\n",
    "\n",
    "#Softmax function on a vector\n",
    "def softmax(x):\n",
    "    x = torch.exp(x)\n",
    "    sum = x.sum()\n",
    "    return x/sum\n"
   ]
  },
  {
   "cell_type": "code",
   "execution_count": 4,
   "metadata": {},
   "outputs": [],
   "source": [
    "def convolution(img, kernel, stride, padding, act_func):\n",
    "    width, height, num_channels = img.shape\n",
    "    kernel_width,kernel_height,kernel_length = kernel.shape\n",
    "    # Pad the input image with 0s\n",
    "    # New dimensions of image after padding\n",
    "    new_width = width+2*padding\n",
    "    new_height = height+2*padding\n",
    "    # Change the image after padding\n",
    "    new_img = torch.zeros(new_width,new_height,num_channels)\n",
    "    new_img[padding:padding+width,padding:padding+height,:]=img\n",
    "    img = new_img\n",
    "    # Convoluted matrix dimensions\n",
    "    conv_width = int((new_width-kernel_width)/stride) + 1\n",
    "    conv_height = int((new_height-kernel_height)/stride) + 1\n",
    "    conv_img = torch.zeros(conv_width,conv_height)\n",
    "    #\n",
    "    for i in range(conv_width):\n",
    "        for j in range(conv_height):\n",
    "            block = img[i*stride:i*stride+kernel_width,j*stride:j*stride+kernel_height,:]\n",
    "            conv_img[i, j] += torch.sum(torch.mul(block,kernel))\n",
    "    output_act_map = act_func(conv_img)\n",
    "    return output_act_map"
   ]
  },
  {
   "attachments": {},
   "cell_type": "markdown",
   "metadata": {},
   "source": [
    "# Question 1"
   ]
  },
  {
   "cell_type": "code",
   "execution_count": 5,
   "metadata": {},
   "outputs": [
    {
     "name": "stdout",
     "output_type": "stream",
     "text": [
      "Input Image of iith\n"
     ]
    },
    {
     "data": {
      "image/png": "[encoded data removed]",
      "text/plain": [
       "<Figure size 300x300 with 1 Axes>"
      ]
     },
     "metadata": {},
     "output_type": "display_data"
    }
   ],
   "source": [
    "# Converting the image into array\n",
    "img_array = mpimg.imread(\"iith_logo.jpg\")/255\n",
    "print(\"Input Image of iith\")\n",
    "plt.figure(figsize=(30, 30), dpi=10)\n",
    "plt.imshow(img_array)\n",
    "plt.show()\n",
    "\n",
    "# Converting the image array into image tensor\n",
    "img_tensor = torch.from_numpy(img_array)"
   ]
  },
  {
   "cell_type": "code",
   "execution_count": 6,
   "metadata": {},
   "outputs": [
    {
     "name": "stdout",
     "output_type": "stream",
     "text": [
      "Kernel we will use for convolution:\n"
     ]
    },
    {
     "data": {
      "image/png": "[encoded data removed]",
      "text/plain": [
       "<Figure size 300x300 with 1 Axes>"
      ]
     },
     "metadata": {},
     "output_type": "display_data"
    }
   ],
   "source": [
    "# Generating a random kernel with elements from normal distribution N(0,1)\n",
    "num_channels = img_tensor.shape[2]\n",
    "kernel = torch.rand(3, 3, num_channels)\n",
    "print(\"Kernel we will use for convolution:\")\n",
    "plt.figure(figsize=(30, 30), dpi=10)\n",
    "plt.imshow(kernel)\n",
    "plt.show()"
   ]
  },
  {
   "cell_type": "code",
   "execution_count": 7,
   "metadata": {},
   "outputs": [
    {
     "name": "stdout",
     "output_type": "stream",
     "text": [
      "Convolved Image with above kernel:\n"
     ]
    },
    {
     "data": {
      "image/png": "[encoded data removed]",
      "text/plain": [
       "<Figure size 300x300 with 1 Axes>"
      ]
     },
     "metadata": {},
     "output_type": "display_data"
    }
   ],
   "source": [
    "# Convolving the input image with the random kernel\n",
    "conv_img = convolution(img_tensor, kernel, 1, 0, sigmoid)\n",
    "\n",
    "# Showing the obtained convoluted tensor in image form\n",
    "print(\"Convolved Image with above kernel:\")\n",
    "plt.figure(figsize=(30, 30), dpi=10)\n",
    "plt.imshow(conv_img,cmap='gray')\n",
    "plt.show()"
   ]
  },
  {
   "attachments": {},
   "cell_type": "markdown",
   "metadata": {},
   "source": [
    "# Question 2"
   ]
  },
  {
   "cell_type": "code",
   "execution_count": 8,
   "metadata": {},
   "outputs": [],
   "source": [
    "#List of pooling functions\n",
    "def max_pooling(x):\n",
    "    return torch.max(x)\n",
    "\n",
    "def average_pooling(x):\n",
    "    return torch.mean(x)\n",
    "\n",
    "#Pooling function for act_map\n",
    "def pooling(act_map,kernel_dimensions,stride=2,pooling_function=max_pooling):\n",
    "    width,height = act_map.shape\n",
    "    kernel_width,kernel_height= kernel_dimensions\n",
    "    new_width = int((width-kernel_width)/stride+1)\n",
    "    new_height = int((height-kernel_height)/stride+1)\n",
    "    pooled_map = torch.zeros(new_width,new_height)\n",
    "    for i in range(new_width):\n",
    "        for j in range(new_height):\n",
    "            pooling_block = act_map[i*stride:i*stride+kernel_width,j*stride:j*stride+kernel_height]\n",
    "            pooled_map[i,j] = pooling_function(pooling_block)\n",
    "    return pooled_map"
   ]
  },
  {
   "cell_type": "code",
   "execution_count": 9,
   "metadata": {},
   "outputs": [
    {
     "name": "stdout",
     "output_type": "stream",
     "text": [
      "Pooled image:\n"
     ]
    },
    {
     "data": {
      "image/png": "[encoded data removed]",
      "text/plain": [
       "<Figure size 300x300 with 1 Axes>"
      ]
     },
     "metadata": {},
     "output_type": "display_data"
    }
   ],
   "source": [
    "pooled_img = pooling(conv_img, (2, 2))\n",
    "print(\"Pooled image:\")\n",
    "plt.figure(figsize=(30, 30), dpi=10)\n",
    "plt.imshow(pooled_img,cmap='gray')\n",
    "plt.show()"
   ]
  },
  {
   "attachments": {},
   "cell_type": "markdown",
   "metadata": {},
   "source": [
    "# Question 3"
   ]
  },
  {
   "cell_type": "code",
   "execution_count": 10,
   "metadata": {},
   "outputs": [],
   "source": [
    "def convolution_layer(img,kernels,stride=1,padding=0,act_func=sigmoid):\n",
    "    num_channels = img.shape[-1]\n",
    "    kernel_dimensions = kernels[0].shape\n",
    "    num_filters = len(kernels)\n",
    "    new_width = int((img.shape[0]-kernel_dimensions[0]+2*padding)/stride+1)\n",
    "    new_height = int((img.shape[1]-kernel_dimensions[1]+2*padding)/stride+1)\n",
    "    convoluted_volume = torch.zeros(new_width,new_height,num_filters)\n",
    "    for i in range(num_filters):\n",
    "        convoluted_volume[:,:,i] = convolution(img, kernels[i], stride, padding, act_func)\n",
    "    act_volume = act_func(convoluted_volume)\n",
    "    return act_volume"
   ]
  },
  {
   "cell_type": "code",
   "execution_count": 11,
   "metadata": {},
   "outputs": [
    {
     "name": "stdout",
     "output_type": "stream",
     "text": [
      "Convoluted activation : 1\n"
     ]
    },
    {
     "data": {
      "image/png": "[encoded data removed]",
      "text/plain": [
       "<Figure size 300x300 with 1 Axes>"
      ]
     },
     "metadata": {},
     "output_type": "display_data"
    },
    {
     "name": "stdout",
     "output_type": "stream",
     "text": [
      "Convoluted activation : 2\n"
     ]
    },
    {
     "data": {
      "image/png": "[encoded data removed]",
      "text/plain": [
       "<Figure size 300x300 with 1 Axes>"
      ]
     },
     "metadata": {},
     "output_type": "display_data"
    },
    {
     "name": "stdout",
     "output_type": "stream",
     "text": [
      "Convoluted activation : 3\n"
     ]
    },
    {
     "data": {
      "image/png": "[encoded data removed]",
      "text/plain": [
       "<Figure size 300x300 with 1 Axes>"
      ]
     },
     "metadata": {},
     "output_type": "display_data"
    },
    {
     "name": "stdout",
     "output_type": "stream",
     "text": [
      "Convoluted activation : 4\n"
     ]
    },
    {
     "data": {
      "image/png": "[encoded data removed]",
      "text/plain": [
       "<Figure size 300x300 with 1 Axes>"
      ]
     },
     "metadata": {},
     "output_type": "display_data"
    },
    {
     "name": "stdout",
     "output_type": "stream",
     "text": [
      "Convoluted activation : 5\n"
     ]
    },
    {
     "data": {
      "image/png": "[encoded data removed]",
      "text/plain": [
       "<Figure size 300x300 with 1 Axes>"
      ]
     },
     "metadata": {},
     "output_type": "display_data"
    }
   ],
   "source": [
    "# Generating 5 random kernels of size (3,3)  \n",
    "kernels = generate_kernels(5,(3,3))\n",
    "# Activation Volume containing all activation maps from convolving that image with those kernels\n",
    "act_map = convolution_layer(img_tensor,kernels)\n",
    "\n",
    "# Showing the obtained convoluted tensor in image form\n",
    "for i in range(5):\n",
    "    print(\"Convoluted activation :\",i+1)\n",
    "    plt.figure(figsize=(30, 30), dpi=10)\n",
    "    plt.imshow(act_map[:,:,i],cmap=\"gray\")\n",
    "    plt.show()"
   ]
  },
  {
   "attachments": {},
   "cell_type": "markdown",
   "metadata": {},
   "source": [
    "# Question 4"
   ]
  },
  {
   "cell_type": "code",
   "execution_count": 12,
   "metadata": {},
   "outputs": [],
   "source": [
    "def pooling_layer(act_map,kernel_dimensions,stride=2,pooling_function=max_pooling,global_average_pooling=False):\n",
    "    width,height,num_channels = act_map.shape\n",
    "    kernel_width,kernel_height= kernel_dimensions\n",
    "    if(global_average_pooling):\n",
    "        pooled_map = torch.zeros(num_channels)\n",
    "        for i in range(num_channels):\n",
    "            pooled_map[i]=torch.mean(act_map[:,:,i])\n",
    "        return pooled_map\n",
    "    new_width = int((width-kernel_width)/stride+1)\n",
    "    new_height = int((height-kernel_height)/stride+1)\n",
    "    pooled_map = torch.zeros(new_width,new_height,num_channels)\n",
    "    for i in range(num_channels):\n",
    "        pooled_map[:,:,i] = pooling(act_map[:,:,i],kernel_dimensions,stride,pooling_function)\n",
    "    return pooled_map"
   ]
  },
  {
   "cell_type": "code",
   "execution_count": 13,
   "metadata": {},
   "outputs": [
    {
     "name": "stdout",
     "output_type": "stream",
     "text": [
      "Pooled activation : 1\n"
     ]
    },
    {
     "data": {
      "image/png": "[encoded data removed]",
      "text/plain": [
       "<Figure size 300x300 with 1 Axes>"
      ]
     },
     "metadata": {},
     "output_type": "display_data"
    },
    {
     "name": "stdout",
     "output_type": "stream",
     "text": [
      "Pooled activation : 2\n"
     ]
    },
    {
     "data": {
      "image/png": "[encoded data removed]",
      "text/plain": [
       "<Figure size 300x300 with 1 Axes>"
      ]
     },
     "metadata": {},
     "output_type": "display_data"
    },
    {
     "name": "stdout",
     "output_type": "stream",
     "text": [
      "Pooled activation : 3\n"
     ]
    },
    {
     "data": {
      "image/png": "[encoded data removed]",
      "text/plain": [
       "<Figure size 300x300 with 1 Axes>"
      ]
     },
     "metadata": {},
     "output_type": "display_data"
    },
    {
     "name": "stdout",
     "output_type": "stream",
     "text": [
      "Pooled activation : 4\n"
     ]
    },
    {
     "data": {
      "image/png": "[encoded data removed]",
      "text/plain": [
       "<Figure size 300x300 with 1 Axes>"
      ]
     },
     "metadata": {},
     "output_type": "display_data"
    },
    {
     "name": "stdout",
     "output_type": "stream",
     "text": [
      "Pooled activation : 5\n"
     ]
    },
    {
     "data": {
      "image/png": "[encoded data removed]",
      "text/plain": [
       "<Figure size 300x300 with 1 Axes>"
      ]
     },
     "metadata": {},
     "output_type": "display_data"
    }
   ],
   "source": [
    "# Pooling a activation volume and generating output\n",
    "input_map = act_map\n",
    "pooled_img = pooling_layer(input_map, (3, 3), 3)\n",
    "# Showing the obtained convoluted tensor in image form\n",
    "for i in range(5):\n",
    "    print(\"Pooled activation :\",i+1)\n",
    "    plt.figure(figsize=(30, 30), dpi=10)\n",
    "    plt.imshow(act_map[:,:,i],cmap=\"gray\")\n",
    "    plt.show()"
   ]
  },
  {
   "attachments": {},
   "cell_type": "markdown",
   "metadata": {},
   "source": [
    "# Question 5"
   ]
  },
  {
   "cell_type": "code",
   "execution_count": 14,
   "metadata": {},
   "outputs": [],
   "source": [
    "def flatten(act_map,output_size,weight_matrix=None):\n",
    "    width,height,num_channels = act_map.shape\n",
    "    flattened_map = torch.zeros(0)\n",
    "    for c in range(num_channels):\n",
    "        for h in range(height):\n",
    "            flattened_map = torch.cat((flattened_map,act_map[:,h,c]))\n",
    "    if (torch.numel(flattened_map)==output_size):\n",
    "        return flattened_map\n",
    "    else:\n",
    "        if(weight_matrix!=None):\n",
    "            output = weight_matrix@flattened_map\n",
    "            return output\n",
    "        weight_matrix = random_kernel((output_size,),torch.numel(flattened_map))\n",
    "        output = weight_matrix@flattened_map\n",
    "        return output"
   ]
  },
  {
   "cell_type": "code",
   "execution_count": 15,
   "metadata": {},
   "outputs": [
    {
     "name": "stdout",
     "output_type": "stream",
     "text": [
      "tensor([  5.6175, -11.1636,  25.4305, -22.5783,  10.0250, -18.0236,  -6.2845,\n",
      "        -10.8821,   2.0362,  -5.9156, -17.7576,   8.3738,   9.9289,  10.5151,\n",
      "         21.5324, -21.7781,   9.5121,  -0.3371,  23.9767,  14.3557])\n"
     ]
    }
   ],
   "source": [
    "#Flattening the pooled activation volume to size 10\n",
    "input = flatten(pooled_img,20)\n",
    "print(input)"
   ]
  },
  {
   "attachments": {},
   "cell_type": "markdown",
   "metadata": {},
   "source": [
    "# Question 6"
   ]
  },
  {
   "cell_type": "code",
   "execution_count": 16,
   "metadata": {},
   "outputs": [],
   "source": [
    "def mlp(input,num_hidden,hidden_size,output_size,act_func=sigmoid,weight_matrices=None):\n",
    "    if(weight_matrices!=None):\n",
    "        for i in range(num_hidden):\n",
    "            input = act_func(weight_matrices[i]@input)\n",
    "        output = act_func(weight_matrices[-1]@input)\n",
    "    else:\n",
    "        for i in range(num_hidden):\n",
    "            weight_matrix = torch.rand(hidden_size[i],torch.numel(input))\n",
    "            input = act_func(weight_matrix@input)\n",
    "        weight_matrix = torch.rand(output_size,torch.numel(input))\n",
    "        output = act_func(weight_matrix@input)\n",
    "    return output,softmax(output)"
   ]
  },
  {
   "cell_type": "code",
   "execution_count": 17,
   "metadata": {},
   "outputs": [
    {
     "name": "stdout",
     "output_type": "stream",
     "text": [
      "The last layer output in mlp is:  tensor([0.9942, 0.9927, 0.9506, 0.9807, 0.9959])\n",
      "The mlp output after softmax is : tensor([0.2023, 0.2020, 0.1936, 0.1995, 0.2026])\n"
     ]
    }
   ],
   "source": [
    "output,output_softmax = mlp(input,3,(10,5,10),5)\n",
    "print(\"The last layer output in mlp is: \",output)\n",
    "print(\"The mlp output after softmax is :\",output_softmax)"
   ]
  },
  {
   "attachments": {},
   "cell_type": "markdown",
   "metadata": {},
   "source": [
    "# Question 7"
   ]
  },
  {
   "cell_type": "code",
   "execution_count": 18,
   "metadata": {},
   "outputs": [],
   "source": [
    "class CNN:\n",
    "    \n",
    "    def __init__(self):\n",
    "\n",
    "        self.kernels1 = generate_kernels(16,(3,3),3)\n",
    "        self.kernels2 = generate_kernels(8,(3,3),16)\n",
    "\n",
    "        self.weight_matrices = []\n",
    "\n",
    "        w = random_kernel((8,),8)\n",
    "        self.weight_matrices.append(w)\n",
    "        w = random_kernel((10,),8)\n",
    "        self.weight_matrices.append(w)\n",
    "\n",
    "        \n",
    "\n",
    "    def feed_forward(self,input):\n",
    "\n",
    "        # Convolution layer with 16 kernels of size 3 × 3 spatial dimensions and sigmoid activation.\n",
    "        first_conv_output = convolution_layer(input,self.kernels1)\n",
    "\n",
    "        # Max pooling layer of size 2 × 2 with a stride of 2 along each dimension.\n",
    "        first_pool_output = pooling_layer(first_conv_output,(2,2))\n",
    "\n",
    "        # Convolution layer with 8 kernels of spatial size 3 × 3 and sigmoid activation.\n",
    "        second_conv_output = convolution_layer(first_pool_output,self.kernels2)\n",
    "\n",
    "        # Max pooling layer of size 2 × 2 with a stride of 2 along each dimension.\n",
    "        second_pool_output = pooling_layer(second_conv_output,(2,2))\n",
    "\n",
    "        # A Global Average Pooling (GAP) layer.\n",
    "        gap_output = pooling_layer(second_pool_output,(1,1),global_average_pooling=True)\n",
    "    \n",
    "        # An MLP with one hidden layer\n",
    "        output_vec,output_vec_softmax = mlp(gap_output,1,(8,),10,weight_matrices=self.weight_matrices)\n",
    "\n",
    "        return output_vec_softmax, gap_output"
   ]
  },
  {
   "attachments": {},
   "cell_type": "markdown",
   "metadata": {},
   "source": [
    "# Question 8"
   ]
  },
  {
   "cell_type": "code",
   "execution_count": 19,
   "metadata": {},
   "outputs": [
    {
     "name": "stdout",
     "output_type": "stream",
     "text": [
      "The vector obtained after global average pooling is : tensor([0.5000, 0.5017, 0.7309, 0.5610, 0.5747, 0.6348, 0.5000, 0.7309])\n",
      "The output softmax vector of mlp is : tensor([0.0784, 0.0621, 0.1536, 0.1298, 0.0815, 0.0704, 0.1619, 0.1003, 0.1002,\n",
      "        0.0618])\n"
     ]
    }
   ],
   "source": [
    "#Creating a CNN object and Passing the iith-logo image in feed forward \n",
    "cnn_object = CNN()\n",
    "output_softmax,gap_output = cnn_object.feed_forward(img_tensor)\n",
    "print(\"The vector obtained after global average pooling is :\",gap_output)\n",
    "print(\"The output softmax vector of mlp is :\",output_softmax)"
   ]
  },
  {
   "attachments": {},
   "cell_type": "markdown",
   "metadata": {},
   "source": [
    "Since the CNN network is not trained the images won't show any discriminability\n",
    "Even a iith-logo image could correspond to irrelevant object in CIFAR dataset "
   ]
  }
 ],
 "metadata": {
  "kernelspec": {
   "display_name": "Python 3",
   "language": "python",
   "name": "python3"
  },
  "language_info": {
   "codemirror_mode": {
    "name": "ipython",
    "version": 3
   },
   "file_extension": ".py",
   "mimetype": "text/x-python",
   "name": "python",
   "nbconvert_exporter": "python",
   "pygments_lexer": "ipython3",
   "version": "3.10.6"
  },
  "orig_nbformat": 4,
  "vscode": {
   "interpreter": {
    "hash": "e7370f93d1d0cde622a1f8e1c04877d8463912d04d973331ad4851f04de6915a"
   }
  }
 },
 "nbformat": 4,
 "nbformat_minor": 2
}
